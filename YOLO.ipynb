{
 "cells": [
  {
   "cell_type": "code",
   "execution_count": 1,
   "metadata": {},
   "outputs": [
    {
     "name": "stdout",
     "output_type": "stream",
     "text": [
      "Requirement already satisfied: torch==1.11.0 in c:\\users\\mirla\\anaconda3\\lib\\site-packages (1.11.0)\n",
      "Requirement already satisfied: torchvision in c:\\users\\mirla\\anaconda3\\lib\\site-packages (0.12.0)\n",
      "Requirement already satisfied: torchaudio in c:\\users\\mirla\\anaconda3\\lib\\site-packages (0.11.0)\n",
      "Requirement already satisfied: typing-extensions in c:\\users\\mirla\\anaconda3\\lib\\site-packages (from torch==1.11.0) (4.1.1)\n",
      "Requirement already satisfied: pillow!=8.3.*,>=5.3.0 in c:\\users\\mirla\\anaconda3\\lib\\site-packages (from torchvision) (9.0.1)\n",
      "Requirement already satisfied: numpy in c:\\users\\mirla\\anaconda3\\lib\\site-packages (from torchvision) (1.22.3)\n",
      "Requirement already satisfied: requests in c:\\users\\mirla\\anaconda3\\lib\\site-packages (from torchvision) (2.27.1)\n",
      "Requirement already satisfied: charset-normalizer~=2.0.0 in c:\\users\\mirla\\anaconda3\\lib\\site-packages (from requests->torchvision) (2.0.4)\n",
      "Requirement already satisfied: certifi>=2017.4.17 in c:\\users\\mirla\\anaconda3\\lib\\site-packages (from requests->torchvision) (2021.10.8)\n",
      "Requirement already satisfied: idna<4,>=2.5 in c:\\users\\mirla\\anaconda3\\lib\\site-packages (from requests->torchvision) (3.3)\n",
      "Requirement already satisfied: urllib3<1.27,>=1.21.1 in c:\\users\\mirla\\anaconda3\\lib\\site-packages (from requests->torchvision) (1.26.9)\n"
     ]
    }
   ],
   "source": [
    "!pip install torch==1.11.0 torchvision torchaudio"
   ]
  },
  {
   "cell_type": "code",
   "execution_count": 2,
   "metadata": {},
   "outputs": [
    {
     "name": "stderr",
     "output_type": "stream",
     "text": [
      "Cloning into 'yolov5'...\n"
     ]
    },
    {
     "name": "stdout",
     "output_type": "stream",
     "text": [
      "Requirement already satisfied: gitpython in c:\\users\\mirla\\anaconda3\\lib\\site-packages (from -r yolov5/requirements.txt (line 5)) (3.1.29)\n",
      "Requirement already satisfied: ipython in c:\\users\\mirla\\anaconda3\\lib\\site-packages (from -r yolov5/requirements.txt (line 6)) (8.2.0)\n",
      "Requirement already satisfied: matplotlib>=3.2.2 in c:\\users\\mirla\\anaconda3\\lib\\site-packages (from -r yolov5/requirements.txt (line 7)) (3.5.1)\n",
      "Requirement already satisfied: numpy>=1.18.5 in c:\\users\\mirla\\anaconda3\\lib\\site-packages (from -r yolov5/requirements.txt (line 8)) (1.22.3)\n",
      "Requirement already satisfied: opencv-python>=4.1.1 in c:\\users\\mirla\\anaconda3\\lib\\site-packages (from -r yolov5/requirements.txt (line 9)) (4.6.0.66)\n",
      "Requirement already satisfied: Pillow>=7.1.2 in c:\\users\\mirla\\anaconda3\\lib\\site-packages (from -r yolov5/requirements.txt (line 10)) (9.0.1)\n",
      "Requirement already satisfied: psutil in c:\\users\\mirla\\anaconda3\\lib\\site-packages (from -r yolov5/requirements.txt (line 11)) (5.8.0)\n",
      "Requirement already satisfied: PyYAML>=5.3.1 in c:\\users\\mirla\\anaconda3\\lib\\site-packages (from -r yolov5/requirements.txt (line 12)) (6.0)\n",
      "Requirement already satisfied: requests>=2.23.0 in c:\\users\\mirla\\anaconda3\\lib\\site-packages (from -r yolov5/requirements.txt (line 13)) (2.27.1)\n",
      "Requirement already satisfied: scipy>=1.4.1 in c:\\users\\mirla\\anaconda3\\lib\\site-packages (from -r yolov5/requirements.txt (line 14)) (1.7.3)\n",
      "Requirement already satisfied: thop>=0.1.1 in c:\\users\\mirla\\anaconda3\\lib\\site-packages (from -r yolov5/requirements.txt (line 15)) (0.1.1.post2209072238)\n",
      "Requirement already satisfied: torch>=1.7.0 in c:\\users\\mirla\\anaconda3\\lib\\site-packages (from -r yolov5/requirements.txt (line 16)) (1.11.0)\n",
      "Requirement already satisfied: torchvision>=0.8.1 in c:\\users\\mirla\\anaconda3\\lib\\site-packages (from -r yolov5/requirements.txt (line 17)) (0.12.0)\n",
      "Requirement already satisfied: tqdm>=4.64.0 in c:\\users\\mirla\\anaconda3\\lib\\site-packages (from -r yolov5/requirements.txt (line 18)) (4.64.0)\n",
      "Requirement already satisfied: tensorboard>=2.4.1 in c:\\users\\mirla\\anaconda3\\lib\\site-packages (from -r yolov5/requirements.txt (line 22)) (2.11.0)\n",
      "Requirement already satisfied: pandas>=1.1.4 in c:\\users\\mirla\\anaconda3\\lib\\site-packages (from -r yolov5/requirements.txt (line 27)) (1.4.2)\n",
      "Requirement already satisfied: seaborn>=0.11.0 in c:\\users\\mirla\\anaconda3\\lib\\site-packages (from -r yolov5/requirements.txt (line 28)) (0.11.2)\n",
      "Requirement already satisfied: gitdb<5,>=4.0.1 in c:\\users\\mirla\\anaconda3\\lib\\site-packages (from gitpython->-r yolov5/requirements.txt (line 5)) (4.0.10)\n",
      "Requirement already satisfied: colorama in c:\\users\\mirla\\anaconda3\\lib\\site-packages (from ipython->-r yolov5/requirements.txt (line 6)) (0.4.4)\n",
      "Requirement already satisfied: prompt-toolkit!=3.0.0,!=3.0.1,<3.1.0,>=2.0.0 in c:\\users\\mirla\\anaconda3\\lib\\site-packages (from ipython->-r yolov5/requirements.txt (line 6)) (3.0.20)\n",
      "Requirement already satisfied: traitlets>=5 in c:\\users\\mirla\\anaconda3\\lib\\site-packages (from ipython->-r yolov5/requirements.txt (line 6)) (5.1.1)\n",
      "Requirement already satisfied: stack-data in c:\\users\\mirla\\anaconda3\\lib\\site-packages (from ipython->-r yolov5/requirements.txt (line 6)) (0.2.0)\n",
      "Requirement already satisfied: setuptools>=18.5 in c:\\users\\mirla\\anaconda3\\lib\\site-packages (from ipython->-r yolov5/requirements.txt (line 6)) (61.2.0)\n",
      "Requirement already satisfied: matplotlib-inline in c:\\users\\mirla\\anaconda3\\lib\\site-packages (from ipython->-r yolov5/requirements.txt (line 6)) (0.1.2)\n",
      "Requirement already satisfied: pickleshare in c:\\users\\mirla\\anaconda3\\lib\\site-packages (from ipython->-r yolov5/requirements.txt (line 6)) (0.7.5)\n",
      "Requirement already satisfied: pygments>=2.4.0 in c:\\users\\mirla\\anaconda3\\lib\\site-packages (from ipython->-r yolov5/requirements.txt (line 6)) (2.11.2)\n",
      "Requirement already satisfied: jedi>=0.16 in c:\\users\\mirla\\anaconda3\\lib\\site-packages (from ipython->-r yolov5/requirements.txt (line 6)) (0.18.1)\n",
      "Requirement already satisfied: decorator in c:\\users\\mirla\\anaconda3\\lib\\site-packages (from ipython->-r yolov5/requirements.txt (line 6)) (5.1.1)\n",
      "Requirement already satisfied: backcall in c:\\users\\mirla\\anaconda3\\lib\\site-packages (from ipython->-r yolov5/requirements.txt (line 6)) (0.2.0)\n",
      "Requirement already satisfied: pyparsing>=2.2.1 in c:\\users\\mirla\\anaconda3\\lib\\site-packages (from matplotlib>=3.2.2->-r yolov5/requirements.txt (line 7)) (3.0.4)\n",
      "Requirement already satisfied: cycler>=0.10 in c:\\users\\mirla\\anaconda3\\lib\\site-packages (from matplotlib>=3.2.2->-r yolov5/requirements.txt (line 7)) (0.11.0)\n",
      "Requirement already satisfied: fonttools>=4.22.0 in c:\\users\\mirla\\anaconda3\\lib\\site-packages (from matplotlib>=3.2.2->-r yolov5/requirements.txt (line 7)) (4.25.0)\n",
      "Requirement already satisfied: python-dateutil>=2.7 in c:\\users\\mirla\\anaconda3\\lib\\site-packages (from matplotlib>=3.2.2->-r yolov5/requirements.txt (line 7)) (2.8.2)\n",
      "Requirement already satisfied: packaging>=20.0 in c:\\users\\mirla\\anaconda3\\lib\\site-packages (from matplotlib>=3.2.2->-r yolov5/requirements.txt (line 7)) (21.3)\n",
      "Requirement already satisfied: kiwisolver>=1.0.1 in c:\\users\\mirla\\anaconda3\\lib\\site-packages (from matplotlib>=3.2.2->-r yolov5/requirements.txt (line 7)) (1.3.2)\n",
      "Requirement already satisfied: charset-normalizer~=2.0.0 in c:\\users\\mirla\\anaconda3\\lib\\site-packages (from requests>=2.23.0->-r yolov5/requirements.txt (line 13)) (2.0.4)\n",
      "Requirement already satisfied: urllib3<1.27,>=1.21.1 in c:\\users\\mirla\\anaconda3\\lib\\site-packages (from requests>=2.23.0->-r yolov5/requirements.txt (line 13)) (1.26.9)\n",
      "Requirement already satisfied: certifi>=2017.4.17 in c:\\users\\mirla\\anaconda3\\lib\\site-packages (from requests>=2.23.0->-r yolov5/requirements.txt (line 13)) (2021.10.8)\n",
      "Requirement already satisfied: idna<4,>=2.5 in c:\\users\\mirla\\anaconda3\\lib\\site-packages (from requests>=2.23.0->-r yolov5/requirements.txt (line 13)) (3.3)\n",
      "Requirement already satisfied: typing-extensions in c:\\users\\mirla\\anaconda3\\lib\\site-packages (from torch>=1.7.0->-r yolov5/requirements.txt (line 16)) (4.1.1)\n",
      "Requirement already satisfied: werkzeug>=1.0.1 in c:\\users\\mirla\\anaconda3\\lib\\site-packages (from tensorboard>=2.4.1->-r yolov5/requirements.txt (line 22)) (2.0.3)\n",
      "Requirement already satisfied: tensorboard-data-server<0.7.0,>=0.6.0 in c:\\users\\mirla\\anaconda3\\lib\\site-packages (from tensorboard>=2.4.1->-r yolov5/requirements.txt (line 22)) (0.6.1)\n",
      "Requirement already satisfied: tensorboard-plugin-wit>=1.6.0 in c:\\users\\mirla\\anaconda3\\lib\\site-packages (from tensorboard>=2.4.1->-r yolov5/requirements.txt (line 22)) (1.8.1)\n",
      "Requirement already satisfied: wheel>=0.26 in c:\\users\\mirla\\anaconda3\\lib\\site-packages (from tensorboard>=2.4.1->-r yolov5/requirements.txt (line 22)) (0.37.1)\n",
      "Requirement already satisfied: grpcio>=1.24.3 in c:\\users\\mirla\\anaconda3\\lib\\site-packages (from tensorboard>=2.4.1->-r yolov5/requirements.txt (line 22)) (1.42.0)\n",
      "Requirement already satisfied: absl-py>=0.4 in c:\\users\\mirla\\anaconda3\\lib\\site-packages (from tensorboard>=2.4.1->-r yolov5/requirements.txt (line 22)) (1.3.0)\n",
      "Requirement already satisfied: google-auth-oauthlib<0.5,>=0.4.1 in c:\\users\\mirla\\anaconda3\\lib\\site-packages (from tensorboard>=2.4.1->-r yolov5/requirements.txt (line 22)) (0.4.6)\n",
      "Requirement already satisfied: protobuf<4,>=3.9.2 in c:\\users\\mirla\\anaconda3\\lib\\site-packages (from tensorboard>=2.4.1->-r yolov5/requirements.txt (line 22)) (3.19.1)\n",
      "Requirement already satisfied: google-auth<3,>=1.6.3 in c:\\users\\mirla\\anaconda3\\lib\\site-packages (from tensorboard>=2.4.1->-r yolov5/requirements.txt (line 22)) (1.33.0)\n",
      "Requirement already satisfied: markdown>=2.6.8 in c:\\users\\mirla\\anaconda3\\lib\\site-packages (from tensorboard>=2.4.1->-r yolov5/requirements.txt (line 22)) (3.3.4)\n",
      "Requirement already satisfied: pytz>=2020.1 in c:\\users\\mirla\\anaconda3\\lib\\site-packages (from pandas>=1.1.4->-r yolov5/requirements.txt (line 27)) (2021.3)\n",
      "Requirement already satisfied: smmap<6,>=3.0.1 in c:\\users\\mirla\\anaconda3\\lib\\site-packages (from gitdb<5,>=4.0.1->gitpython->-r yolov5/requirements.txt (line 5)) (5.0.0)\n",
      "Requirement already satisfied: six>=1.9.0 in c:\\users\\mirla\\anaconda3\\lib\\site-packages (from google-auth<3,>=1.6.3->tensorboard>=2.4.1->-r yolov5/requirements.txt (line 22)) (1.16.0)\n",
      "Requirement already satisfied: cachetools<5.0,>=2.0.0 in c:\\users\\mirla\\anaconda3\\lib\\site-packages (from google-auth<3,>=1.6.3->tensorboard>=2.4.1->-r yolov5/requirements.txt (line 22)) (4.2.2)\n",
      "Requirement already satisfied: pyasn1-modules>=0.2.1 in c:\\users\\mirla\\anaconda3\\lib\\site-packages (from google-auth<3,>=1.6.3->tensorboard>=2.4.1->-r yolov5/requirements.txt (line 22)) (0.2.8)\n",
      "Requirement already satisfied: rsa<5,>=3.1.4 in c:\\users\\mirla\\anaconda3\\lib\\site-packages (from google-auth<3,>=1.6.3->tensorboard>=2.4.1->-r yolov5/requirements.txt (line 22)) (4.7.2)\n",
      "Requirement already satisfied: requests-oauthlib>=0.7.0 in c:\\users\\mirla\\anaconda3\\lib\\site-packages (from google-auth-oauthlib<0.5,>=0.4.1->tensorboard>=2.4.1->-r yolov5/requirements.txt (line 22)) (1.3.1)\n",
      "Requirement already satisfied: parso<0.9.0,>=0.8.0 in c:\\users\\mirla\\anaconda3\\lib\\site-packages (from jedi>=0.16->ipython->-r yolov5/requirements.txt (line 6)) (0.8.3)\n",
      "Requirement already satisfied: wcwidth in c:\\users\\mirla\\anaconda3\\lib\\site-packages (from prompt-toolkit!=3.0.0,!=3.0.1,<3.1.0,>=2.0.0->ipython->-r yolov5/requirements.txt (line 6)) (0.2.5)\n",
      "Requirement already satisfied: pyasn1<0.5.0,>=0.4.6 in c:\\users\\mirla\\anaconda3\\lib\\site-packages (from pyasn1-modules>=0.2.1->google-auth<3,>=1.6.3->tensorboard>=2.4.1->-r yolov5/requirements.txt (line 22)) (0.4.8)\n",
      "Requirement already satisfied: oauthlib>=3.0.0 in c:\\users\\mirla\\anaconda3\\lib\\site-packages (from requests-oauthlib>=0.7.0->google-auth-oauthlib<0.5,>=0.4.1->tensorboard>=2.4.1->-r yolov5/requirements.txt (line 22)) (3.2.2)\n",
      "Requirement already satisfied: executing in c:\\users\\mirla\\anaconda3\\lib\\site-packages (from stack-data->ipython->-r yolov5/requirements.txt (line 6)) (0.8.3)\n",
      "Requirement already satisfied: asttokens in c:\\users\\mirla\\anaconda3\\lib\\site-packages (from stack-data->ipython->-r yolov5/requirements.txt (line 6)) (2.0.5)\n",
      "Requirement already satisfied: pure-eval in c:\\users\\mirla\\anaconda3\\lib\\site-packages (from stack-data->ipython->-r yolov5/requirements.txt (line 6)) (0.2.2)\n"
     ]
    }
   ],
   "source": [
    "!git clone https://github.com/ultralytics/yolov5\n",
    "!cd yolov5\n",
    "!pip install -r yolov5/requirements.txt"
   ]
  },
  {
   "cell_type": "code",
   "execution_count": 3,
   "metadata": {},
   "outputs": [],
   "source": [
    "import torch\n",
    "import cv2\n",
    "import numpy as np"
   ]
  },
  {
   "cell_type": "code",
   "execution_count": 4,
   "metadata": {},
   "outputs": [
    {
     "name": "stderr",
     "output_type": "stream",
     "text": [
      "Using cache found in C:\\Users\\Mirla/.cache\\torch\\hub\\ultralytics_yolov5_master\n",
      "YOLOv5  2022-12-6 Python-3.9.12 torch-1.11.0+cpu CPU\n",
      "\n",
      "Downloading https://github.com/ultralytics/yolov5/releases/download/v7.0/yolov5n.pt to yolov5n.pt...\n"
     ]
    },
    {
     "data": {
      "application/vnd.jupyter.widget-view+json": {
       "model_id": "3823d206119b4a5d8afcaa2844697d2f",
       "version_major": 2,
       "version_minor": 0
      },
      "text/plain": [
       "  0%|          | 0.00/3.87M [00:00<?, ?B/s]"
      ]
     },
     "metadata": {},
     "output_type": "display_data"
    },
    {
     "name": "stderr",
     "output_type": "stream",
     "text": [
      "\n",
      "Fusing layers... \n",
      "YOLOv5n summary: 213 layers, 1867405 parameters, 0 gradients\n",
      "Adding AutoShape... \n"
     ]
    }
   ],
   "source": [
    "modelo = torch.hub.load('ultralytics/yolov5','yolov5n')"
   ]
  },
  {
   "cell_type": "code",
   "execution_count": 5,
   "metadata": {},
   "outputs": [],
   "source": [
    "cap = cv2.VideoCapture(1)\n",
    "while cap.isOpened():\n",
    "    _, frame = cap.read()\n",
    "\n",
    "    saida = modelo(frame)\n",
    "\n",
    "    cv2.imshow('YOLO', np.squeeze(saida.render()))\n",
    "\n",
    "    if cv2.waitKey(10) & 0xFF == ord('c'):\n",
    "        break\n",
    "cap.release()\n",
    "cv2.destroyAllWindows()"
   ]
  },
  {
   "cell_type": "code",
   "execution_count": null,
   "metadata": {},
   "outputs": [],
   "source": []
  }
 ],
 "metadata": {
  "kernelspec": {
   "display_name": "base",
   "language": "python",
   "name": "python3"
  },
  "language_info": {
   "codemirror_mode": {
    "name": "ipython",
    "version": 3
   },
   "file_extension": ".py",
   "mimetype": "text/x-python",
   "name": "python",
   "nbconvert_exporter": "python",
   "pygments_lexer": "ipython3",
   "version": "3.9.12"
  },
  "orig_nbformat": 4,
  "vscode": {
   "interpreter": {
    "hash": "657fedcff07eaeece73f1e2e3c2cb002e74ee536e02538f0047f0504538abd92"
   }
  }
 },
 "nbformat": 4,
 "nbformat_minor": 2
}
